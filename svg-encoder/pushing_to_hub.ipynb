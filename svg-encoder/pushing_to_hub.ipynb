{
 "cells": [
  {
   "cell_type": "code",
   "execution_count": 2,
   "metadata": {},
   "outputs": [
    {
     "ename": "ModuleNotFoundError",
     "evalue": "No module named 'transformers'",
     "output_type": "error",
     "traceback": [
      "\u001b[0;31m---------------------------------------------------------------------------\u001b[0m",
      "\u001b[0;31mModuleNotFoundError\u001b[0m                       Traceback (most recent call last)",
      "Cell \u001b[0;32mIn[2], line 1\u001b[0m\n\u001b[0;32m----> 1\u001b[0m \u001b[38;5;28;01mfrom\u001b[39;00m\u001b[38;5;250m \u001b[39m\u001b[38;5;21;01mtransformers\u001b[39;00m\u001b[38;5;250m \u001b[39m\u001b[38;5;28;01mimport\u001b[39;00m AutoModelForMaskedLM, AutoTokenizer\n\u001b[1;32m      3\u001b[0m model \u001b[38;5;241m=\u001b[39m AutoModelForMaskedLM\u001b[38;5;241m.\u001b[39mfrom_pretrained(\u001b[38;5;124m\"\u001b[39m\u001b[38;5;124mmodel_weights/safetensors/large/stage_1\u001b[39m\u001b[38;5;124m\"\u001b[39m)\n\u001b[1;32m      4\u001b[0m tokenizer \u001b[38;5;241m=\u001b[39m AutoTokenizer\u001b[38;5;241m.\u001b[39mfrom_pretrained(\u001b[38;5;124m\"\u001b[39m\u001b[38;5;124mmodel_weights/safetensors/large/stage_1\u001b[39m\u001b[38;5;124m\"\u001b[39m)\n",
      "\u001b[0;31mModuleNotFoundError\u001b[0m: No module named 'transformers'"
     ]
    }
   ],
   "source": [
    "from transformers import AutoModelForMaskedLM, AutoTokenizer\n",
    "\n",
    "model = AutoModelForMaskedLM.from_pretrained(\"model_weights/safetensors/large/stage_1\")\n",
    "tokenizer = AutoTokenizer.from_pretrained(\"model_weights/safetensors/large/stage_1\")\n",
    "\n",
    "model.push_to_hub(\"VectorGraphics/svg-encoder-large\", revision=\"stage-1\", private=True)"
   ]
  },
  {
   "cell_type": "code",
   "execution_count": 3,
   "metadata": {},
   "outputs": [
    {
     "name": "stderr",
     "output_type": "stream",
     "text": [
      "model.safetensors: 100%|██████████| 599M/599M [05:07<00:00, 1.95MB/s]   \n"
     ]
    },
    {
     "data": {
      "text/plain": [
       "CommitInfo(commit_url='https://huggingface.co/VectorGraphics/svg-encoder-base/commit/06f131edc99058c61333857640e17763c36bf05e', commit_message='Upload ModernBertForMaskedLM', commit_description='', oid='06f131edc99058c61333857640e17763c36bf05e', pr_url=None, repo_url=RepoUrl('https://huggingface.co/VectorGraphics/svg-encoder-base', endpoint='https://huggingface.co', repo_type='model', repo_id='VectorGraphics/svg-encoder-base'), pr_revision=None, pr_num=None)"
      ]
     },
     "execution_count": 3,
     "metadata": {},
     "output_type": "execute_result"
    }
   ],
   "source": [
    "from transformers import AutoModelForMaskedLM, AutoTokenizer\n",
    "\n",
    "model = AutoModelForMaskedLM.from_pretrained(\"model_weights/safetensors/stage_2\")\n",
    "tokenizer = AutoTokenizer.from_pretrained(\"model_weights/safetensors/stage_2\")\n",
    "\n",
    "model.push_to_hub(\"VectorGraphics/svg-encoder-base\", revision=\"stage-2\", private=True)"
   ]
  },
  {
   "cell_type": "code",
   "execution_count": 2,
   "metadata": {},
   "outputs": [
    {
     "name": "stderr",
     "output_type": "stream",
     "text": [
      "/Users/borismalasenko/miniconda3/lib/python3.12/site-packages/tqdm/auto.py:21: TqdmWarning: IProgress not found. Please update jupyter and ipywidgets. See https://ipywidgets.readthedocs.io/en/stable/user_install.html\n",
      "  from .autonotebook import tqdm as notebook_tqdm\n",
      "model.safetensors: 100%|██████████| 599M/599M [00:50<00:00, 11.8MB/s] \n"
     ]
    },
    {
     "data": {
      "text/plain": [
       "CommitInfo(commit_url='https://huggingface.co/VectorGraphics/svg-encoder-base/commit/31c85f783a82197795bd7aeb6e4b635e8afca8c6', commit_message='Upload ModernBertForMaskedLM', commit_description='', oid='31c85f783a82197795bd7aeb6e4b635e8afca8c6', pr_url=None, repo_url=RepoUrl('https://huggingface.co/VectorGraphics/svg-encoder-base', endpoint='https://huggingface.co', repo_type='model', repo_id='VectorGraphics/svg-encoder-base'), pr_revision=None, pr_num=None)"
      ]
     },
     "execution_count": 2,
     "metadata": {},
     "output_type": "execute_result"
    }
   ],
   "source": [
    "from transformers import AutoModelForMaskedLM, AutoTokenizer\n",
    "\n",
    "model = AutoModelForMaskedLM.from_pretrained(\"model_weights/safetensors/stage_3\")\n",
    "tokenizer = AutoTokenizer.from_pretrained(\"model_weights/safetensors/stage_3\")\n",
    "\n",
    "model.push_to_hub(\"VectorGraphics/svg-encoder-base\", private=True)"
   ]
  },
  {
   "cell_type": "code",
   "execution_count": null,
   "metadata": {},
   "outputs": [],
   "source": []
  }
 ],
 "metadata": {
  "kernelspec": {
   "display_name": "Python 3",
   "language": "python",
   "name": "python3"
  },
  "language_info": {
   "codemirror_mode": {
    "name": "ipython",
    "version": 3
   },
   "file_extension": ".py",
   "mimetype": "text/x-python",
   "name": "python",
   "nbconvert_exporter": "python",
   "pygments_lexer": "ipython3",
   "version": "3.10.17"
  }
 },
 "nbformat": 4,
 "nbformat_minor": 2
}
