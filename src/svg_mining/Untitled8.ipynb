{
  "nbformat": 4,
  "nbformat_minor": 0,
  "metadata": {
    "colab": {
      "provenance": []
    },
    "kernelspec": {
      "name": "python3",
      "display_name": "Python 3"
    },
    "language_info": {
      "name": "python"
    }
  },
  "cells": [
    {
      "cell_type": "code",
      "source": [
        "from google.colab import drive\n",
        "drive.mount('/content/drive')"
      ],
      "metadata": {
        "id": "lT7P3kXPjfGE",
        "outputId": "a2755a8c-1dc3-4fba-d394-abf1ec31fadc",
        "colab": {
          "base_uri": "https://localhost:8080/"
        }
      },
      "execution_count": 1,
      "outputs": [
        {
          "output_type": "stream",
          "name": "stdout",
          "text": [
            "Mounted at /content/drive\n"
          ]
        }
      ]
    },
    {
      "cell_type": "code",
      "source": [
        "%cd /content/drive/MyDrive\n",
        "!git clone https://github.com/CTLab-ITMO/Text2SVG.git\n",
        "%cd Text2SVG/src/svg_mining"
      ],
      "metadata": {
        "id": "mNts7ehrjvfm",
        "outputId": "09a7a331-9c8c-4376-bfa2-58345dfd94ed",
        "colab": {
          "base_uri": "https://localhost:8080/"
        }
      },
      "execution_count": 16,
      "outputs": [
        {
          "output_type": "stream",
          "name": "stdout",
          "text": [
            "/content/drive/MyDrive\n",
            "fatal: destination path 'Text2SVG' already exists and is not an empty directory.\n",
            "/content/drive/MyDrive/Text2SVG/src/svg_mining\n"
          ]
        }
      ]
    },
    {
      "cell_type": "markdown",
      "source": [],
      "metadata": {
        "id": "piB4EtSKrBSx"
      }
    },
    {
      "cell_type": "code",
      "source": [
        "!python3 main.py --parquet-url https://huggingface.co/datasets/nhagar/falcon_urls/resolve/main/data/train-00088-of-00170.parquet"
      ],
      "metadata": {
        "colab": {
          "base_uri": "https://localhost:8080/"
        },
        "id": "qxBQ8JSlq7oc",
        "outputId": "2c15d123-37dd-4d75-b532-d9921dc584e0"
      },
      "execution_count": null,
      "outputs": [
        {
          "output_type": "stream",
          "name": "stdout",
          "text": [
            "2025-03-06 13:06:46,543 [INFO] Downloading https://huggingface.co/datasets/nhagar/falcon_urls/resolve/main/data/train-00088-of-00170.parquet -> train-00088-of-00170.parquet\n",
            "2025-03-06 13:06:53,610 [INFO] Download complete: train-00088-of-00170.parquet\n",
            "Processing URLs:   0% 0/5694118 [00:00<?, ?it/s]2025-03-06 13:06:53,775 [INFO] train-00088-of-00170.parquet has 5695 row-groups, total 5694118 rows.\n",
            "2025-03-06 13:06:53,960 [INFO] NumExpr defaulting to 2 threads.\n",
            "Processing URLs:   0% 3088/5694118 [00:41<30:33:46, 51.72it/s]"
          ]
        }
      ]
    },
    {
      "cell_type": "markdown",
      "source": [],
      "metadata": {
        "id": "KY0k51XMq7Ai"
      }
    }
  ]
}